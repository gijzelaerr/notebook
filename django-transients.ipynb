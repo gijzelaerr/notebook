{
 "metadata": {
  "name": "",
  "signature": "sha256:fe625b500d7783be0cfa81454f429258e3e52b7513a22299760c26e827eb6195"
 },
 "nbformat": 3,
 "nbformat_minor": 0,
 "worksheets": [
  {
   "cells": [
    {
     "cell_type": "heading",
     "level": 6,
     "metadata": {},
     "source": [
      "change variables below"
     ]
    },
    {
     "cell_type": "code",
     "collapsed": false,
     "input": [
      "banana_path = '/home/gijs/Work/banana'\n",
      "db = 'postgres_gijs'"
     ],
     "language": "python",
     "metadata": {},
     "outputs": [],
     "prompt_number": 1
    },
    {
     "cell_type": "code",
     "collapsed": false,
     "input": [
      "import sys\n",
      "import os\n",
      "import logging\n",
      "import datetime\n",
      "sys.path.append(banana_path)\n",
      "os.environ[\"DJANGO_SETTINGS_MODULE\"] = \"bananaproject.settings\"\n",
      "from django.db.models import Max\n",
      "from banana.models import *"
     ],
     "language": "python",
     "metadata": {},
     "outputs": [],
     "prompt_number": 2
    },
    {
     "cell_type": "code",
     "collapsed": false,
     "input": [
      "logging.basicConfig(level=logging.INFO)"
     ],
     "language": "python",
     "metadata": {},
     "outputs": [],
     "prompt_number": 3
    },
    {
     "cell_type": "code",
     "collapsed": false,
     "input": [
      "max_time = Assocxtrsource.objects \\\n",
      "    .using(db) \\\n",
      "    .values('runcat', 'xtrsrc__image__band') \\\n",
      "    .annotate(xtrsrc__image__taustart_ts=(Max('xtrsrc__image__taustart_ts')))\n",
      "transients = [Assocxtrsource.objects.using(db).get(**a) for a in max_time]\n",
      "print len(transients)\n",
      "print transients\n"
     ],
     "language": "python",
     "metadata": {},
     "outputs": [
      {
       "output_type": "stream",
       "stream": "stderr",
       "text": [
        "DEBUG:django.db.backends:(0.005) SELECT \"assocxtrsource\".\"runcat\", \"image\".\"band\", MAX(\"image\".\"taustart_ts\") AS \"xtrsrc__image__taustart_ts\" FROM \"assocxtrsource\" LEFT OUTER JOIN \"extractedsource\" ON ( \"assocxtrsource\".\"xtrsrc\" = \"extractedsource\".\"id\" ) LEFT OUTER JOIN \"image\" ON ( \"extractedsource\".\"image\" = \"image\".\"id\" ) GROUP BY \"assocxtrsource\".\"runcat\", \"image\".\"band\"; args=()\n"
       ]
      },
      {
       "output_type": "stream",
       "stream": "stderr",
       "text": [
        "/usr/local/lib/python2.7/dist-packages/django/db/models/fields/__init__.py:903: RuntimeWarning: DateTimeField Image.taustart_ts received a naive datetime (2013-02-10 21:57:07) while time zone support is active.\n",
        "  RuntimeWarning)\n",
        "\n"
       ]
      },
      {
       "output_type": "stream",
       "stream": "stderr",
       "text": [
        "WARNING:py.warnings:/usr/local/lib/python2.7/dist-packages/django/db/models/fields/__init__.py:903: RuntimeWarning: DateTimeField Image.taustart_ts received a naive datetime (2013-02-10 21:57:07) while time zone support is active.\n",
        "  RuntimeWarning)\n",
        "\n"
       ]
      },
      {
       "output_type": "stream",
       "stream": "stderr",
       "text": [
        "DEBUG:django.db.backends:(0.002) SELECT \"assocxtrsource\".\"id\", \"assocxtrsource\".\"runcat\", \"assocxtrsource\".\"xtrsrc\", \"assocxtrsource\".\"type\", \"assocxtrsource\".\"distance_arcsec\", \"assocxtrsource\".\"r\", \"assocxtrsource\".\"loglr\", \"assocxtrsource\".\"v_int\", \"assocxtrsource\".\"eta_int\" FROM \"assocxtrsource\" INNER JOIN \"extractedsource\" ON ( \"assocxtrsource\".\"xtrsrc\" = \"extractedsource\".\"id\" ) INNER JOIN \"image\" ON ( \"extractedsource\".\"image\" = \"image\".\"id\" ) WHERE (\"assocxtrsource\".\"runcat\" = 13  AND \"image\".\"band\" = 23  AND \"image\".\"taustart_ts\" = '2013-02-10 21:57:07+01:00' ); args=(13, 23, u'2013-02-10 21:57:07+01:00')\n"
       ]
      },
      {
       "output_type": "stream",
       "stream": "stderr",
       "text": [
        "/usr/local/lib/python2.7/dist-packages/django/db/models/fields/__init__.py:903: RuntimeWarning: DateTimeField Image.taustart_ts received a naive datetime (2013-02-10 22:12:07) while time zone support is active.\n",
        "  RuntimeWarning)\n",
        "\n"
       ]
      },
      {
       "output_type": "stream",
       "stream": "stderr",
       "text": [
        "WARNING:py.warnings:/usr/local/lib/python2.7/dist-packages/django/db/models/fields/__init__.py:903: RuntimeWarning: DateTimeField Image.taustart_ts received a naive datetime (2013-02-10 22:12:07) while time zone support is active.\n",
        "  RuntimeWarning)\n",
        "\n"
       ]
      },
      {
       "output_type": "stream",
       "stream": "stderr",
       "text": [
        "DEBUG:django.db.backends:(0.001) SELECT \"assocxtrsource\".\"id\", \"assocxtrsource\".\"runcat\", \"assocxtrsource\".\"xtrsrc\", \"assocxtrsource\".\"type\", \"assocxtrsource\".\"distance_arcsec\", \"assocxtrsource\".\"r\", \"assocxtrsource\".\"loglr\", \"assocxtrsource\".\"v_int\", \"assocxtrsource\".\"eta_int\" FROM \"assocxtrsource\" INNER JOIN \"extractedsource\" ON ( \"assocxtrsource\".\"xtrsrc\" = \"extractedsource\".\"id\" ) INNER JOIN \"image\" ON ( \"extractedsource\".\"image\" = \"image\".\"id\" ) WHERE (\"assocxtrsource\".\"runcat\" = 14  AND \"image\".\"band\" = 25  AND \"image\".\"taustart_ts\" = '2013-02-10 22:12:07+01:00' ); args=(14, 25, u'2013-02-10 22:12:07+01:00')\n"
       ]
      },
      {
       "output_type": "stream",
       "stream": "stderr",
       "text": [
        "DEBUG:django.db.backends:(0.001) SELECT \"assocxtrsource\".\"id\", \"assocxtrsource\".\"runcat\", \"assocxtrsource\".\"xtrsrc\", \"assocxtrsource\".\"type\", \"assocxtrsource\".\"distance_arcsec\", \"assocxtrsource\".\"r\", \"assocxtrsource\".\"loglr\", \"assocxtrsource\".\"v_int\", \"assocxtrsource\".\"eta_int\" FROM \"assocxtrsource\" INNER JOIN \"extractedsource\" ON ( \"assocxtrsource\".\"xtrsrc\" = \"extractedsource\".\"id\" ) INNER JOIN \"image\" ON ( \"extractedsource\".\"image\" = \"image\".\"id\" ) WHERE (\"assocxtrsource\".\"runcat\" = 8  AND \"image\".\"band\" = 26  AND \"image\".\"taustart_ts\" = '2013-02-10 22:12:07+01:00' ); args=(8, 26, u'2013-02-10 22:12:07+01:00')\n"
       ]
      },
      {
       "output_type": "stream",
       "stream": "stderr",
       "text": [
        "DEBUG:django.db.backends:(0.001) SELECT \"assocxtrsource\".\"id\", \"assocxtrsource\".\"runcat\", \"assocxtrsource\".\"xtrsrc\", \"assocxtrsource\".\"type\", \"assocxtrsource\".\"distance_arcsec\", \"assocxtrsource\".\"r\", \"assocxtrsource\".\"loglr\", \"assocxtrsource\".\"v_int\", \"assocxtrsource\".\"eta_int\" FROM \"assocxtrsource\" INNER JOIN \"extractedsource\" ON ( \"assocxtrsource\".\"xtrsrc\" = \"extractedsource\".\"id\" ) INNER JOIN \"image\" ON ( \"extractedsource\".\"image\" = \"image\".\"id\" ) WHERE (\"assocxtrsource\".\"runcat\" = 5  AND \"image\".\"band\" = 23  AND \"image\".\"taustart_ts\" = '2013-02-10 21:57:07+01:00' ); args=(5, 23, u'2013-02-10 21:57:07+01:00')\n"
       ]
      },
      {
       "output_type": "stream",
       "stream": "stderr",
       "text": [
        "DEBUG:django.db.backends:(0.001) SELECT \"assocxtrsource\".\"id\", \"assocxtrsource\".\"runcat\", \"assocxtrsource\".\"xtrsrc\", \"assocxtrsource\".\"type\", \"assocxtrsource\".\"distance_arcsec\", \"assocxtrsource\".\"r\", \"assocxtrsource\".\"loglr\", \"assocxtrsource\".\"v_int\", \"assocxtrsource\".\"eta_int\" FROM \"assocxtrsource\" INNER JOIN \"extractedsource\" ON ( \"assocxtrsource\".\"xtrsrc\" = \"extractedsource\".\"id\" ) INNER JOIN \"image\" ON ( \"extractedsource\".\"image\" = \"image\".\"id\" ) WHERE (\"assocxtrsource\".\"runcat\" = 9  AND \"image\".\"band\" = 23  AND \"image\".\"taustart_ts\" = '2013-02-10 21:57:07+01:00' ); args=(9, 23, u'2013-02-10 21:57:07+01:00')\n"
       ]
      },
      {
       "output_type": "stream",
       "stream": "stderr",
       "text": [
        "DEBUG:django.db.backends:(0.001) SELECT \"assocxtrsource\".\"id\", \"assocxtrsource\".\"runcat\", \"assocxtrsource\".\"xtrsrc\", \"assocxtrsource\".\"type\", \"assocxtrsource\".\"distance_arcsec\", \"assocxtrsource\".\"r\", \"assocxtrsource\".\"loglr\", \"assocxtrsource\".\"v_int\", \"assocxtrsource\".\"eta_int\" FROM \"assocxtrsource\" INNER JOIN \"extractedsource\" ON ( \"assocxtrsource\".\"xtrsrc\" = \"extractedsource\".\"id\" ) INNER JOIN \"image\" ON ( \"extractedsource\".\"image\" = \"image\".\"id\" ) WHERE (\"assocxtrsource\".\"runcat\" = 1  AND \"image\".\"band\" = 26  AND \"image\".\"taustart_ts\" = '2013-02-10 22:12:07+01:00' ); args=(1, 26, u'2013-02-10 22:12:07+01:00')\n"
       ]
      },
      {
       "output_type": "stream",
       "stream": "stderr",
       "text": [
        "DEBUG:django.db.backends:(0.001) SELECT \"assocxtrsource\".\"id\", \"assocxtrsource\".\"runcat\", \"assocxtrsource\".\"xtrsrc\", \"assocxtrsource\".\"type\", \"assocxtrsource\".\"distance_arcsec\", \"assocxtrsource\".\"r\", \"assocxtrsource\".\"loglr\", \"assocxtrsource\".\"v_int\", \"assocxtrsource\".\"eta_int\" FROM \"assocxtrsource\" INNER JOIN \"extractedsource\" ON ( \"assocxtrsource\".\"xtrsrc\" = \"extractedsource\".\"id\" ) INNER JOIN \"image\" ON ( \"extractedsource\".\"image\" = \"image\".\"id\" ) WHERE (\"assocxtrsource\".\"runcat\" = 15  AND \"image\".\"band\" = 26  AND \"image\".\"taustart_ts\" = '2013-02-10 22:12:07+01:00' ); args=(15, 26, u'2013-02-10 22:12:07+01:00')\n"
       ]
      },
      {
       "output_type": "stream",
       "stream": "stderr",
       "text": [
        "DEBUG:django.db.backends:(0.001) SELECT \"assocxtrsource\".\"id\", \"assocxtrsource\".\"runcat\", \"assocxtrsource\".\"xtrsrc\", \"assocxtrsource\".\"type\", \"assocxtrsource\".\"distance_arcsec\", \"assocxtrsource\".\"r\", \"assocxtrsource\".\"loglr\", \"assocxtrsource\".\"v_int\", \"assocxtrsource\".\"eta_int\" FROM \"assocxtrsource\" INNER JOIN \"extractedsource\" ON ( \"assocxtrsource\".\"xtrsrc\" = \"extractedsource\".\"id\" ) INNER JOIN \"image\" ON ( \"extractedsource\".\"image\" = \"image\".\"id\" ) WHERE (\"assocxtrsource\".\"runcat\" = 10  AND \"image\".\"band\" = 26  AND \"image\".\"taustart_ts\" = '2013-02-10 22:12:07+01:00' ); args=(10, 26, u'2013-02-10 22:12:07+01:00')\n"
       ]
      },
      {
       "output_type": "stream",
       "stream": "stderr",
       "text": [
        "DEBUG:django.db.backends:(0.001) SELECT \"assocxtrsource\".\"id\", \"assocxtrsource\".\"runcat\", \"assocxtrsource\".\"xtrsrc\", \"assocxtrsource\".\"type\", \"assocxtrsource\".\"distance_arcsec\", \"assocxtrsource\".\"r\", \"assocxtrsource\".\"loglr\", \"assocxtrsource\".\"v_int\", \"assocxtrsource\".\"eta_int\" FROM \"assocxtrsource\" INNER JOIN \"extractedsource\" ON ( \"assocxtrsource\".\"xtrsrc\" = \"extractedsource\".\"id\" ) INNER JOIN \"image\" ON ( \"extractedsource\".\"image\" = \"image\".\"id\" ) WHERE (\"assocxtrsource\".\"runcat\" = 7  AND \"image\".\"band\" = 23  AND \"image\".\"taustart_ts\" = '2013-02-10 21:57:07+01:00' ); args=(7, 23, u'2013-02-10 21:57:07+01:00')\n"
       ]
      },
      {
       "output_type": "stream",
       "stream": "stderr",
       "text": [
        "/usr/local/lib/python2.7/dist-packages/django/db/models/fields/__init__.py:903: RuntimeWarning: DateTimeField Image.taustart_ts received a naive datetime (2013-02-10 21:42:07) while time zone support is active.\n",
        "  RuntimeWarning)\n",
        "\n"
       ]
      },
      {
       "output_type": "stream",
       "stream": "stderr",
       "text": [
        "WARNING:py.warnings:/usr/local/lib/python2.7/dist-packages/django/db/models/fields/__init__.py:903: RuntimeWarning: DateTimeField Image.taustart_ts received a naive datetime (2013-02-10 21:42:07) while time zone support is active.\n",
        "  RuntimeWarning)\n",
        "\n"
       ]
      },
      {
       "output_type": "stream",
       "stream": "stderr",
       "text": [
        "DEBUG:django.db.backends:(0.001) SELECT \"assocxtrsource\".\"id\", \"assocxtrsource\".\"runcat\", \"assocxtrsource\".\"xtrsrc\", \"assocxtrsource\".\"type\", \"assocxtrsource\".\"distance_arcsec\", \"assocxtrsource\".\"r\", \"assocxtrsource\".\"loglr\", \"assocxtrsource\".\"v_int\", \"assocxtrsource\".\"eta_int\" FROM \"assocxtrsource\" INNER JOIN \"extractedsource\" ON ( \"assocxtrsource\".\"xtrsrc\" = \"extractedsource\".\"id\" ) INNER JOIN \"image\" ON ( \"extractedsource\".\"image\" = \"image\".\"id\" ) WHERE (\"assocxtrsource\".\"runcat\" = 4  AND \"image\".\"band\" = 24  AND \"image\".\"taustart_ts\" = '2013-02-10 21:42:07+01:00' ); args=(4, 24, u'2013-02-10 21:42:07+01:00')\n"
       ]
      },
      {
       "output_type": "stream",
       "stream": "stderr",
       "text": [
        "DEBUG:django.db.backends:(0.001) SELECT \"assocxtrsource\".\"id\", \"assocxtrsource\".\"runcat\", \"assocxtrsource\".\"xtrsrc\", \"assocxtrsource\".\"type\", \"assocxtrsource\".\"distance_arcsec\", \"assocxtrsource\".\"r\", \"assocxtrsource\".\"loglr\", \"assocxtrsource\".\"v_int\", \"assocxtrsource\".\"eta_int\" FROM \"assocxtrsource\" INNER JOIN \"extractedsource\" ON ( \"assocxtrsource\".\"xtrsrc\" = \"extractedsource\".\"id\" ) INNER JOIN \"image\" ON ( \"extractedsource\".\"image\" = \"image\".\"id\" ) WHERE (\"assocxtrsource\".\"runcat\" = 8  AND \"image\".\"band\" = 25  AND \"image\".\"taustart_ts\" = '2013-02-10 22:12:07+01:00' ); args=(8, 25, u'2013-02-10 22:12:07+01:00')\n"
       ]
      },
      {
       "output_type": "stream",
       "stream": "stderr",
       "text": [
        "DEBUG:django.db.backends:(0.001) SELECT \"assocxtrsource\".\"id\", \"assocxtrsource\".\"runcat\", \"assocxtrsource\".\"xtrsrc\", \"assocxtrsource\".\"type\", \"assocxtrsource\".\"distance_arcsec\", \"assocxtrsource\".\"r\", \"assocxtrsource\".\"loglr\", \"assocxtrsource\".\"v_int\", \"assocxtrsource\".\"eta_int\" FROM \"assocxtrsource\" INNER JOIN \"extractedsource\" ON ( \"assocxtrsource\".\"xtrsrc\" = \"extractedsource\".\"id\" ) INNER JOIN \"image\" ON ( \"extractedsource\".\"image\" = \"image\".\"id\" ) WHERE (\"assocxtrsource\".\"runcat\" = 12  AND \"image\".\"band\" = 25  AND \"image\".\"taustart_ts\" = '2013-02-10 22:12:07+01:00' ); args=(12, 25, u'2013-02-10 22:12:07+01:00')\n"
       ]
      },
      {
       "output_type": "stream",
       "stream": "stderr",
       "text": [
        "DEBUG:django.db.backends:(0.001) SELECT \"assocxtrsource\".\"id\", \"assocxtrsource\".\"runcat\", \"assocxtrsource\".\"xtrsrc\", \"assocxtrsource\".\"type\", \"assocxtrsource\".\"distance_arcsec\", \"assocxtrsource\".\"r\", \"assocxtrsource\".\"loglr\", \"assocxtrsource\".\"v_int\", \"assocxtrsource\".\"eta_int\" FROM \"assocxtrsource\" INNER JOIN \"extractedsource\" ON ( \"assocxtrsource\".\"xtrsrc\" = \"extractedsource\".\"id\" ) INNER JOIN \"image\" ON ( \"extractedsource\".\"image\" = \"image\".\"id\" ) WHERE (\"assocxtrsource\".\"runcat\" = 14  AND \"image\".\"band\" = 26  AND \"image\".\"taustart_ts\" = '2013-02-10 22:12:07+01:00' ); args=(14, 26, u'2013-02-10 22:12:07+01:00')\n"
       ]
      },
      {
       "output_type": "stream",
       "stream": "stderr",
       "text": [
        "DEBUG:django.db.backends:(0.001) SELECT \"assocxtrsource\".\"id\", \"assocxtrsource\".\"runcat\", \"assocxtrsource\".\"xtrsrc\", \"assocxtrsource\".\"type\", \"assocxtrsource\".\"distance_arcsec\", \"assocxtrsource\".\"r\", \"assocxtrsource\".\"loglr\", \"assocxtrsource\".\"v_int\", \"assocxtrsource\".\"eta_int\" FROM \"assocxtrsource\" INNER JOIN \"extractedsource\" ON ( \"assocxtrsource\".\"xtrsrc\" = \"extractedsource\".\"id\" ) INNER JOIN \"image\" ON ( \"extractedsource\".\"image\" = \"image\".\"id\" ) WHERE (\"assocxtrsource\".\"runcat\" = 10  AND \"image\".\"band\" = 25  AND \"image\".\"taustart_ts\" = '2013-02-10 22:12:07+01:00' ); args=(10, 25, u'2013-02-10 22:12:07+01:00')\n"
       ]
      },
      {
       "output_type": "stream",
       "stream": "stderr",
       "text": [
        "DEBUG:django.db.backends:(0.001) SELECT \"assocxtrsource\".\"id\", \"assocxtrsource\".\"runcat\", \"assocxtrsource\".\"xtrsrc\", \"assocxtrsource\".\"type\", \"assocxtrsource\".\"distance_arcsec\", \"assocxtrsource\".\"r\", \"assocxtrsource\".\"loglr\", \"assocxtrsource\".\"v_int\", \"assocxtrsource\".\"eta_int\" FROM \"assocxtrsource\" INNER JOIN \"extractedsource\" ON ( \"assocxtrsource\".\"xtrsrc\" = \"extractedsource\".\"id\" ) INNER JOIN \"image\" ON ( \"extractedsource\".\"image\" = \"image\".\"id\" ) WHERE (\"assocxtrsource\".\"runcat\" = 11  AND \"image\".\"band\" = 24  AND \"image\".\"taustart_ts\" = '2013-02-10 21:42:07+01:00' ); args=(11, 24, u'2013-02-10 21:42:07+01:00')\n"
       ]
      },
      {
       "output_type": "stream",
       "stream": "stderr",
       "text": [
        "DEBUG:django.db.backends:(0.001) SELECT \"assocxtrsource\".\"id\", \"assocxtrsource\".\"runcat\", \"assocxtrsource\".\"xtrsrc\", \"assocxtrsource\".\"type\", \"assocxtrsource\".\"distance_arcsec\", \"assocxtrsource\".\"r\", \"assocxtrsource\".\"loglr\", \"assocxtrsource\".\"v_int\", \"assocxtrsource\".\"eta_int\" FROM \"assocxtrsource\" INNER JOIN \"extractedsource\" ON ( \"assocxtrsource\".\"xtrsrc\" = \"extractedsource\".\"id\" ) INNER JOIN \"image\" ON ( \"extractedsource\".\"image\" = \"image\".\"id\" ) WHERE (\"assocxtrsource\".\"runcat\" = 1  AND \"image\".\"band\" = 25  AND \"image\".\"taustart_ts\" = '2013-02-10 22:12:07+01:00' ); args=(1, 25, u'2013-02-10 22:12:07+01:00')\n"
       ]
      },
      {
       "output_type": "stream",
       "stream": "stderr",
       "text": [
        "DEBUG:django.db.backends:(0.001) SELECT \"assocxtrsource\".\"id\", \"assocxtrsource\".\"runcat\", \"assocxtrsource\".\"xtrsrc\", \"assocxtrsource\".\"type\", \"assocxtrsource\".\"distance_arcsec\", \"assocxtrsource\".\"r\", \"assocxtrsource\".\"loglr\", \"assocxtrsource\".\"v_int\", \"assocxtrsource\".\"eta_int\" FROM \"assocxtrsource\" INNER JOIN \"extractedsource\" ON ( \"assocxtrsource\".\"xtrsrc\" = \"extractedsource\".\"id\" ) INNER JOIN \"image\" ON ( \"extractedsource\".\"image\" = \"image\".\"id\" ) WHERE (\"assocxtrsource\".\"runcat\" = 15  AND \"image\".\"band\" = 25  AND \"image\".\"taustart_ts\" = '2013-02-10 22:12:07+01:00' ); args=(15, 25, u'2013-02-10 22:12:07+01:00')\n"
       ]
      },
      {
       "output_type": "stream",
       "stream": "stderr",
       "text": [
        "DEBUG:django.db.backends:(0.001) SELECT \"assocxtrsource\".\"id\", \"assocxtrsource\".\"runcat\", \"assocxtrsource\".\"xtrsrc\", \"assocxtrsource\".\"type\", \"assocxtrsource\".\"distance_arcsec\", \"assocxtrsource\".\"r\", \"assocxtrsource\".\"loglr\", \"assocxtrsource\".\"v_int\", \"assocxtrsource\".\"eta_int\" FROM \"assocxtrsource\" INNER JOIN \"extractedsource\" ON ( \"assocxtrsource\".\"xtrsrc\" = \"extractedsource\".\"id\" ) INNER JOIN \"image\" ON ( \"extractedsource\".\"image\" = \"image\".\"id\" ) WHERE (\"assocxtrsource\".\"runcat\" = 10  AND \"image\".\"band\" = 24  AND \"image\".\"taustart_ts\" = '2013-02-10 21:42:07+01:00' ); args=(10, 24, u'2013-02-10 21:42:07+01:00')\n"
       ]
      },
      {
       "output_type": "stream",
       "stream": "stderr",
       "text": [
        "DEBUG:django.db.backends:(0.001) SELECT \"assocxtrsource\".\"id\", \"assocxtrsource\".\"runcat\", \"assocxtrsource\".\"xtrsrc\", \"assocxtrsource\".\"type\", \"assocxtrsource\".\"distance_arcsec\", \"assocxtrsource\".\"r\", \"assocxtrsource\".\"loglr\", \"assocxtrsource\".\"v_int\", \"assocxtrsource\".\"eta_int\" FROM \"assocxtrsource\" INNER JOIN \"extractedsource\" ON ( \"assocxtrsource\".\"xtrsrc\" = \"extractedsource\".\"id\" ) INNER JOIN \"image\" ON ( \"extractedsource\".\"image\" = \"image\".\"id\" ) WHERE (\"assocxtrsource\".\"runcat\" = 11  AND \"image\".\"band\" = 25  AND \"image\".\"taustart_ts\" = '2013-02-10 22:12:07+01:00' ); args=(11, 25, u'2013-02-10 22:12:07+01:00')\n"
       ]
      },
      {
       "output_type": "stream",
       "stream": "stderr",
       "text": [
        "DEBUG:django.db.backends:(0.001) SELECT \"assocxtrsource\".\"id\", \"assocxtrsource\".\"runcat\", \"assocxtrsource\".\"xtrsrc\", \"assocxtrsource\".\"type\", \"assocxtrsource\".\"distance_arcsec\", \"assocxtrsource\".\"r\", \"assocxtrsource\".\"loglr\", \"assocxtrsource\".\"v_int\", \"assocxtrsource\".\"eta_int\" FROM \"assocxtrsource\" INNER JOIN \"extractedsource\" ON ( \"assocxtrsource\".\"xtrsrc\" = \"extractedsource\".\"id\" ) INNER JOIN \"image\" ON ( \"extractedsource\".\"image\" = \"image\".\"id\" ) WHERE (\"assocxtrsource\".\"runcat\" = 1  AND \"image\".\"band\" = 24  AND \"image\".\"taustart_ts\" = '2013-02-10 21:42:07+01:00' ); args=(1, 24, u'2013-02-10 21:42:07+01:00')\n"
       ]
      },
      {
       "output_type": "stream",
       "stream": "stderr",
       "text": [
        "DEBUG:django.db.backends:(0.001) SELECT \"assocxtrsource\".\"id\", \"assocxtrsource\".\"runcat\", \"assocxtrsource\".\"xtrsrc\", \"assocxtrsource\".\"type\", \"assocxtrsource\".\"distance_arcsec\", \"assocxtrsource\".\"r\", \"assocxtrsource\".\"loglr\", \"assocxtrsource\".\"v_int\", \"assocxtrsource\".\"eta_int\" FROM \"assocxtrsource\" INNER JOIN \"extractedsource\" ON ( \"assocxtrsource\".\"xtrsrc\" = \"extractedsource\".\"id\" ) INNER JOIN \"image\" ON ( \"extractedsource\".\"image\" = \"image\".\"id\" ) WHERE (\"assocxtrsource\".\"runcat\" = 15  AND \"image\".\"band\" = 24  AND \"image\".\"taustart_ts\" = '2013-02-10 21:42:07+01:00' ); args=(15, 24, u'2013-02-10 21:42:07+01:00')\n"
       ]
      },
      {
       "output_type": "stream",
       "stream": "stderr",
       "text": [
        "DEBUG:django.db.backends:(0.001) SELECT \"assocxtrsource\".\"id\", \"assocxtrsource\".\"runcat\", \"assocxtrsource\".\"xtrsrc\", \"assocxtrsource\".\"type\", \"assocxtrsource\".\"distance_arcsec\", \"assocxtrsource\".\"r\", \"assocxtrsource\".\"loglr\", \"assocxtrsource\".\"v_int\", \"assocxtrsource\".\"eta_int\" FROM \"assocxtrsource\" INNER JOIN \"extractedsource\" ON ( \"assocxtrsource\".\"xtrsrc\" = \"extractedsource\".\"id\" ) INNER JOIN \"image\" ON ( \"extractedsource\".\"image\" = \"image\".\"id\" ) WHERE (\"assocxtrsource\".\"runcat\" = 4  AND \"image\".\"band\" = 25  AND \"image\".\"taustart_ts\" = '2013-02-10 22:12:07+01:00' ); args=(4, 25, u'2013-02-10 22:12:07+01:00')\n"
       ]
      },
      {
       "output_type": "stream",
       "stream": "stderr",
       "text": [
        "DEBUG:django.db.backends:(0.001) SELECT \"assocxtrsource\".\"id\", \"assocxtrsource\".\"runcat\", \"assocxtrsource\".\"xtrsrc\", \"assocxtrsource\".\"type\", \"assocxtrsource\".\"distance_arcsec\", \"assocxtrsource\".\"r\", \"assocxtrsource\".\"loglr\", \"assocxtrsource\".\"v_int\", \"assocxtrsource\".\"eta_int\" FROM \"assocxtrsource\" INNER JOIN \"extractedsource\" ON ( \"assocxtrsource\".\"xtrsrc\" = \"extractedsource\".\"id\" ) INNER JOIN \"image\" ON ( \"extractedsource\".\"image\" = \"image\".\"id\" ) WHERE (\"assocxtrsource\".\"runcat\" = 2  AND \"image\".\"band\" = 23  AND \"image\".\"taustart_ts\" = '2013-02-10 21:57:07+01:00' ); args=(2, 23, u'2013-02-10 21:57:07+01:00')\n"
       ]
      },
      {
       "output_type": "stream",
       "stream": "stderr",
       "text": [
        "DEBUG:django.db.backends:(0.001) SELECT \"assocxtrsource\".\"id\", \"assocxtrsource\".\"runcat\", \"assocxtrsource\".\"xtrsrc\", \"assocxtrsource\".\"type\", \"assocxtrsource\".\"distance_arcsec\", \"assocxtrsource\".\"r\", \"assocxtrsource\".\"loglr\", \"assocxtrsource\".\"v_int\", \"assocxtrsource\".\"eta_int\" FROM \"assocxtrsource\" INNER JOIN \"extractedsource\" ON ( \"assocxtrsource\".\"xtrsrc\" = \"extractedsource\".\"id\" ) INNER JOIN \"image\" ON ( \"extractedsource\".\"image\" = \"image\".\"id\" ) WHERE (\"assocxtrsource\".\"runcat\" = 8  AND \"image\".\"band\" = 24  AND \"image\".\"taustart_ts\" = '2013-02-10 21:42:07+01:00' ); args=(8, 24, u'2013-02-10 21:42:07+01:00')\n"
       ]
      },
      {
       "output_type": "stream",
       "stream": "stderr",
       "text": [
        "DEBUG:django.db.backends:(0.001) SELECT \"assocxtrsource\".\"id\", \"assocxtrsource\".\"runcat\", \"assocxtrsource\".\"xtrsrc\", \"assocxtrsource\".\"type\", \"assocxtrsource\".\"distance_arcsec\", \"assocxtrsource\".\"r\", \"assocxtrsource\".\"loglr\", \"assocxtrsource\".\"v_int\", \"assocxtrsource\".\"eta_int\" FROM \"assocxtrsource\" INNER JOIN \"extractedsource\" ON ( \"assocxtrsource\".\"xtrsrc\" = \"extractedsource\".\"id\" ) INNER JOIN \"image\" ON ( \"extractedsource\".\"image\" = \"image\".\"id\" ) WHERE (\"assocxtrsource\".\"runcat\" = 12  AND \"image\".\"band\" = 24  AND \"image\".\"taustart_ts\" = '2013-02-10 21:42:07+01:00' ); args=(12, 24, u'2013-02-10 21:42:07+01:00')\n"
       ]
      },
      {
       "output_type": "stream",
       "stream": "stderr",
       "text": [
        "DEBUG:django.db.backends:(0.001) SELECT \"assocxtrsource\".\"id\", \"assocxtrsource\".\"runcat\", \"assocxtrsource\".\"xtrsrc\", \"assocxtrsource\".\"type\", \"assocxtrsource\".\"distance_arcsec\", \"assocxtrsource\".\"r\", \"assocxtrsource\".\"loglr\", \"assocxtrsource\".\"v_int\", \"assocxtrsource\".\"eta_int\" FROM \"assocxtrsource\" INNER JOIN \"extractedsource\" ON ( \"assocxtrsource\".\"xtrsrc\" = \"extractedsource\".\"id\" ) INNER JOIN \"image\" ON ( \"extractedsource\".\"image\" = \"image\".\"id\" ) WHERE (\"assocxtrsource\".\"runcat\" = 3  AND \"image\".\"band\" = 23  AND \"image\".\"taustart_ts\" = '2013-02-10 21:57:07+01:00' ); args=(3, 23, u'2013-02-10 21:57:07+01:00')\n"
       ]
      },
      {
       "output_type": "stream",
       "stream": "stderr",
       "text": [
        "DEBUG:django.db.backends:(0.001) SELECT \"assocxtrsource\".\"id\", \"assocxtrsource\".\"runcat\", \"assocxtrsource\".\"xtrsrc\", \"assocxtrsource\".\"type\", \"assocxtrsource\".\"distance_arcsec\", \"assocxtrsource\".\"r\", \"assocxtrsource\".\"loglr\", \"assocxtrsource\".\"v_int\", \"assocxtrsource\".\"eta_int\" FROM \"assocxtrsource\" INNER JOIN \"extractedsource\" ON ( \"assocxtrsource\".\"xtrsrc\" = \"extractedsource\".\"id\" ) INNER JOIN \"image\" ON ( \"extractedsource\".\"image\" = \"image\".\"id\" ) WHERE (\"assocxtrsource\".\"runcat\" = 16  AND \"image\".\"band\" = 26  AND \"image\".\"taustart_ts\" = '2013-02-10 22:12:07+01:00' ); args=(16, 26, u'2013-02-10 22:12:07+01:00')\n"
       ]
      },
      {
       "output_type": "stream",
       "stream": "stderr",
       "text": [
        "DEBUG:django.db.backends:(0.001) SELECT \"assocxtrsource\".\"id\", \"assocxtrsource\".\"runcat\", \"assocxtrsource\".\"xtrsrc\", \"assocxtrsource\".\"type\", \"assocxtrsource\".\"distance_arcsec\", \"assocxtrsource\".\"r\", \"assocxtrsource\".\"loglr\", \"assocxtrsource\".\"v_int\", \"assocxtrsource\".\"eta_int\" FROM \"assocxtrsource\" INNER JOIN \"extractedsource\" ON ( \"assocxtrsource\".\"xtrsrc\" = \"extractedsource\".\"id\" ) INNER JOIN \"image\" ON ( \"extractedsource\".\"image\" = \"image\".\"id\" ) WHERE (\"assocxtrsource\".\"runcat\" = 6  AND \"image\".\"band\" = 23  AND \"image\".\"taustart_ts\" = '2013-02-10 21:57:07+01:00' ); args=(6, 23, u'2013-02-10 21:57:07+01:00')\n"
       ]
      },
      {
       "output_type": "stream",
       "stream": "stderr",
       "text": [
        "DEBUG:django.db.backends:(0.001) SELECT \"assocxtrsource\".\"id\", \"assocxtrsource\".\"runcat\", \"assocxtrsource\".\"xtrsrc\", \"assocxtrsource\".\"type\", \"assocxtrsource\".\"distance_arcsec\", \"assocxtrsource\".\"r\", \"assocxtrsource\".\"loglr\", \"assocxtrsource\".\"v_int\", \"assocxtrsource\".\"eta_int\" FROM \"assocxtrsource\" INNER JOIN \"extractedsource\" ON ( \"assocxtrsource\".\"xtrsrc\" = \"extractedsource\".\"id\" ) INNER JOIN \"image\" ON ( \"extractedsource\".\"image\" = \"image\".\"id\" ) WHERE (\"assocxtrsource\".\"runcat\" = 11  AND \"image\".\"band\" = 26  AND \"image\".\"taustart_ts\" = '2013-02-10 22:12:07+01:00' ); args=(11, 26, u'2013-02-10 22:12:07+01:00')\n"
       ]
      },
      {
       "output_type": "stream",
       "stream": "stderr",
       "text": [
        "DEBUG:django.db.backends:(0.001) SELECT \"assocxtrsource\".\"id\", \"assocxtrsource\".\"runcat\", \"assocxtrsource\".\"xtrsrc\", \"assocxtrsource\".\"type\", \"assocxtrsource\".\"distance_arcsec\", \"assocxtrsource\".\"r\", \"assocxtrsource\".\"loglr\", \"assocxtrsource\".\"v_int\", \"assocxtrsource\".\"eta_int\" FROM \"assocxtrsource\" INNER JOIN \"extractedsource\" ON ( \"assocxtrsource\".\"xtrsrc\" = \"extractedsource\".\"id\" ) INNER JOIN \"image\" ON ( \"extractedsource\".\"image\" = \"image\".\"id\" ) WHERE (\"assocxtrsource\".\"runcat\" = 14  AND \"image\".\"band\" = 24  AND \"image\".\"taustart_ts\" = '2013-02-10 21:42:07+01:00' ); args=(14, 24, u'2013-02-10 21:42:07+01:00')\n"
       ]
      },
      {
       "output_type": "stream",
       "stream": "stderr",
       "text": [
        "DEBUG:django.db.backends:(0.001) SELECT \"assocxtrsource\".\"id\", \"assocxtrsource\".\"runcat\", \"assocxtrsource\".\"xtrsrc\", \"assocxtrsource\".\"type\", \"assocxtrsource\".\"distance_arcsec\", \"assocxtrsource\".\"r\", \"assocxtrsource\".\"loglr\", \"assocxtrsource\".\"v_int\", \"assocxtrsource\".\"eta_int\" FROM \"assocxtrsource\" INNER JOIN \"extractedsource\" ON ( \"assocxtrsource\".\"xtrsrc\" = \"extractedsource\".\"id\" ) INNER JOIN \"image\" ON ( \"extractedsource\".\"image\" = \"image\".\"id\" ) WHERE (\"assocxtrsource\".\"runcat\" = 16  AND \"image\".\"band\" = 25  AND \"image\".\"taustart_ts\" = '2013-02-10 22:12:07+01:00' ); args=(16, 25, u'2013-02-10 22:12:07+01:00')\n"
       ]
      },
      {
       "output_type": "stream",
       "stream": "stderr",
       "text": [
        "DEBUG:django.db.backends:(0.001) SELECT \"assocxtrsource\".\"id\", \"assocxtrsource\".\"runcat\", \"assocxtrsource\".\"xtrsrc\", \"assocxtrsource\".\"type\", \"assocxtrsource\".\"distance_arcsec\", \"assocxtrsource\".\"r\", \"assocxtrsource\".\"loglr\", \"assocxtrsource\".\"v_int\", \"assocxtrsource\".\"eta_int\" FROM \"assocxtrsource\" INNER JOIN \"extractedsource\" ON ( \"assocxtrsource\".\"xtrsrc\" = \"extractedsource\".\"id\" ) INNER JOIN \"image\" ON ( \"extractedsource\".\"image\" = \"image\".\"id\" ) WHERE (\"assocxtrsource\".\"runcat\" = 4  AND \"image\".\"band\" = 26  AND \"image\".\"taustart_ts\" = '2013-02-10 22:12:07+01:00' ); args=(4, 26, u'2013-02-10 22:12:07+01:00')\n"
       ]
      },
      {
       "output_type": "stream",
       "stream": "stderr",
       "text": [
        "DEBUG:django.db.backends:(0.001) SELECT \"assocxtrsource\".\"id\", \"assocxtrsource\".\"runcat\", \"assocxtrsource\".\"xtrsrc\", \"assocxtrsource\".\"type\", \"assocxtrsource\".\"distance_arcsec\", \"assocxtrsource\".\"r\", \"assocxtrsource\".\"loglr\", \"assocxtrsource\".\"v_int\", \"assocxtrsource\".\"eta_int\" FROM \"assocxtrsource\" INNER JOIN \"extractedsource\" ON ( \"assocxtrsource\".\"xtrsrc\" = \"extractedsource\".\"id\" ) INNER JOIN \"image\" ON ( \"extractedsource\".\"image\" = \"image\".\"id\" ) WHERE (\"assocxtrsource\".\"runcat\" = 7  AND \"image\".\"band\" = 24  AND \"image\".\"taustart_ts\" = '2013-02-10 21:42:07+01:00' ); args=(7, 24, u'2013-02-10 21:42:07+01:00')\n"
       ]
      },
      {
       "output_type": "stream",
       "stream": "stderr",
       "text": [
        "DEBUG:django.db.backends:(0.001) SELECT \"assocxtrsource\".\"id\", \"assocxtrsource\".\"runcat\", \"assocxtrsource\".\"xtrsrc\", \"assocxtrsource\".\"type\", \"assocxtrsource\".\"distance_arcsec\", \"assocxtrsource\".\"r\", \"assocxtrsource\".\"loglr\", \"assocxtrsource\".\"v_int\", \"assocxtrsource\".\"eta_int\" FROM \"assocxtrsource\" INNER JOIN \"extractedsource\" ON ( \"assocxtrsource\".\"xtrsrc\" = \"extractedsource\".\"id\" ) INNER JOIN \"image\" ON ( \"extractedsource\".\"image\" = \"image\".\"id\" ) WHERE (\"assocxtrsource\".\"runcat\" = 6  AND \"image\".\"band\" = 25  AND \"image\".\"taustart_ts\" = '2013-02-10 22:12:07+01:00' ); args=(6, 25, u'2013-02-10 22:12:07+01:00')\n"
       ]
      },
      {
       "output_type": "stream",
       "stream": "stderr",
       "text": [
        "DEBUG:django.db.backends:(0.001) SELECT \"assocxtrsource\".\"id\", \"assocxtrsource\".\"runcat\", \"assocxtrsource\".\"xtrsrc\", \"assocxtrsource\".\"type\", \"assocxtrsource\".\"distance_arcsec\", \"assocxtrsource\".\"r\", \"assocxtrsource\".\"loglr\", \"assocxtrsource\".\"v_int\", \"assocxtrsource\".\"eta_int\" FROM \"assocxtrsource\" INNER JOIN \"extractedsource\" ON ( \"assocxtrsource\".\"xtrsrc\" = \"extractedsource\".\"id\" ) INNER JOIN \"image\" ON ( \"extractedsource\".\"image\" = \"image\".\"id\" ) WHERE (\"assocxtrsource\".\"runcat\" = 9  AND \"image\".\"band\" = 24  AND \"image\".\"taustart_ts\" = '2013-02-10 21:42:07+01:00' ); args=(9, 24, u'2013-02-10 21:42:07+01:00')\n"
       ]
      },
      {
       "output_type": "stream",
       "stream": "stderr",
       "text": [
        "DEBUG:django.db.backends:(0.001) SELECT \"assocxtrsource\".\"id\", \"assocxtrsource\".\"runcat\", \"assocxtrsource\".\"xtrsrc\", \"assocxtrsource\".\"type\", \"assocxtrsource\".\"distance_arcsec\", \"assocxtrsource\".\"r\", \"assocxtrsource\".\"loglr\", \"assocxtrsource\".\"v_int\", \"assocxtrsource\".\"eta_int\" FROM \"assocxtrsource\" INNER JOIN \"extractedsource\" ON ( \"assocxtrsource\".\"xtrsrc\" = \"extractedsource\".\"id\" ) INNER JOIN \"image\" ON ( \"extractedsource\".\"image\" = \"image\".\"id\" ) WHERE (\"assocxtrsource\".\"runcat\" = 2  AND \"image\".\"band\" = 26  AND \"image\".\"taustart_ts\" = '2013-02-10 22:12:07+01:00' ); args=(2, 26, u'2013-02-10 22:12:07+01:00')\n"
       ]
      },
      {
       "output_type": "stream",
       "stream": "stderr",
       "text": [
        "DEBUG:django.db.backends:(0.001) SELECT \"assocxtrsource\".\"id\", \"assocxtrsource\".\"runcat\", \"assocxtrsource\".\"xtrsrc\", \"assocxtrsource\".\"type\", \"assocxtrsource\".\"distance_arcsec\", \"assocxtrsource\".\"r\", \"assocxtrsource\".\"loglr\", \"assocxtrsource\".\"v_int\", \"assocxtrsource\".\"eta_int\" FROM \"assocxtrsource\" INNER JOIN \"extractedsource\" ON ( \"assocxtrsource\".\"xtrsrc\" = \"extractedsource\".\"id\" ) INNER JOIN \"image\" ON ( \"extractedsource\".\"image\" = \"image\".\"id\" ) WHERE (\"assocxtrsource\".\"runcat\" = 5  AND \"image\".\"band\" = 24  AND \"image\".\"taustart_ts\" = '2013-02-10 21:42:07+01:00' ); args=(5, 24, u'2013-02-10 21:42:07+01:00')\n"
       ]
      },
      {
       "output_type": "stream",
       "stream": "stderr",
       "text": [
        "DEBUG:django.db.backends:(0.001) SELECT \"assocxtrsource\".\"id\", \"assocxtrsource\".\"runcat\", \"assocxtrsource\".\"xtrsrc\", \"assocxtrsource\".\"type\", \"assocxtrsource\".\"distance_arcsec\", \"assocxtrsource\".\"r\", \"assocxtrsource\".\"loglr\", \"assocxtrsource\".\"v_int\", \"assocxtrsource\".\"eta_int\" FROM \"assocxtrsource\" INNER JOIN \"extractedsource\" ON ( \"assocxtrsource\".\"xtrsrc\" = \"extractedsource\".\"id\" ) INNER JOIN \"image\" ON ( \"extractedsource\".\"image\" = \"image\".\"id\" ) WHERE (\"assocxtrsource\".\"runcat\" = 3  AND \"image\".\"band\" = 26  AND \"image\".\"taustart_ts\" = '2013-02-10 22:12:07+01:00' ); args=(3, 26, u'2013-02-10 22:12:07+01:00')\n"
       ]
      },
      {
       "output_type": "stream",
       "stream": "stderr",
       "text": [
        "DEBUG:django.db.backends:(0.001) SELECT \"assocxtrsource\".\"id\", \"assocxtrsource\".\"runcat\", \"assocxtrsource\".\"xtrsrc\", \"assocxtrsource\".\"type\", \"assocxtrsource\".\"distance_arcsec\", \"assocxtrsource\".\"r\", \"assocxtrsource\".\"loglr\", \"assocxtrsource\".\"v_int\", \"assocxtrsource\".\"eta_int\" FROM \"assocxtrsource\" INNER JOIN \"extractedsource\" ON ( \"assocxtrsource\".\"xtrsrc\" = \"extractedsource\".\"id\" ) INNER JOIN \"image\" ON ( \"extractedsource\".\"image\" = \"image\".\"id\" ) WHERE (\"assocxtrsource\".\"runcat\" = 13  AND \"image\".\"band\" = 24  AND \"image\".\"taustart_ts\" = '2013-02-10 21:42:07+01:00' ); args=(13, 24, u'2013-02-10 21:42:07+01:00')\n"
       ]
      },
      {
       "output_type": "stream",
       "stream": "stderr",
       "text": [
        "DEBUG:django.db.backends:(0.001) SELECT \"assocxtrsource\".\"id\", \"assocxtrsource\".\"runcat\", \"assocxtrsource\".\"xtrsrc\", \"assocxtrsource\".\"type\", \"assocxtrsource\".\"distance_arcsec\", \"assocxtrsource\".\"r\", \"assocxtrsource\".\"loglr\", \"assocxtrsource\".\"v_int\", \"assocxtrsource\".\"eta_int\" FROM \"assocxtrsource\" INNER JOIN \"extractedsource\" ON ( \"assocxtrsource\".\"xtrsrc\" = \"extractedsource\".\"id\" ) INNER JOIN \"image\" ON ( \"extractedsource\".\"image\" = \"image\".\"id\" ) WHERE (\"assocxtrsource\".\"runcat\" = 16  AND \"image\".\"band\" = 23  AND \"image\".\"taustart_ts\" = '2013-02-10 21:57:07+01:00' ); args=(16, 23, u'2013-02-10 21:57:07+01:00')\n"
       ]
      },
      {
       "output_type": "stream",
       "stream": "stderr",
       "text": [
        "DEBUG:django.db.backends:(0.001) SELECT \"assocxtrsource\".\"id\", \"assocxtrsource\".\"runcat\", \"assocxtrsource\".\"xtrsrc\", \"assocxtrsource\".\"type\", \"assocxtrsource\".\"distance_arcsec\", \"assocxtrsource\".\"r\", \"assocxtrsource\".\"loglr\", \"assocxtrsource\".\"v_int\", \"assocxtrsource\".\"eta_int\" FROM \"assocxtrsource\" INNER JOIN \"extractedsource\" ON ( \"assocxtrsource\".\"xtrsrc\" = \"extractedsource\".\"id\" ) INNER JOIN \"image\" ON ( \"extractedsource\".\"image\" = \"image\".\"id\" ) WHERE (\"assocxtrsource\".\"runcat\" = 6  AND \"image\".\"band\" = 26  AND \"image\".\"taustart_ts\" = '2013-02-10 22:12:07+01:00' ); args=(6, 26, u'2013-02-10 22:12:07+01:00')\n"
       ]
      },
      {
       "output_type": "stream",
       "stream": "stderr",
       "text": [
        "DEBUG:django.db.backends:(0.001) SELECT \"assocxtrsource\".\"id\", \"assocxtrsource\".\"runcat\", \"assocxtrsource\".\"xtrsrc\", \"assocxtrsource\".\"type\", \"assocxtrsource\".\"distance_arcsec\", \"assocxtrsource\".\"r\", \"assocxtrsource\".\"loglr\", \"assocxtrsource\".\"v_int\", \"assocxtrsource\".\"eta_int\" FROM \"assocxtrsource\" INNER JOIN \"extractedsource\" ON ( \"assocxtrsource\".\"xtrsrc\" = \"extractedsource\".\"id\" ) INNER JOIN \"image\" ON ( \"extractedsource\".\"image\" = \"image\".\"id\" ) WHERE (\"assocxtrsource\".\"runcat\" = 11  AND \"image\".\"band\" = 23  AND \"image\".\"taustart_ts\" = '2013-02-10 21:57:07+01:00' ); args=(11, 23, u'2013-02-10 21:57:07+01:00')\n"
       ]
      },
      {
       "output_type": "stream",
       "stream": "stderr",
       "text": [
        "DEBUG:django.db.backends:(0.001) SELECT \"assocxtrsource\".\"id\", \"assocxtrsource\".\"runcat\", \"assocxtrsource\".\"xtrsrc\", \"assocxtrsource\".\"type\", \"assocxtrsource\".\"distance_arcsec\", \"assocxtrsource\".\"r\", \"assocxtrsource\".\"loglr\", \"assocxtrsource\".\"v_int\", \"assocxtrsource\".\"eta_int\" FROM \"assocxtrsource\" INNER JOIN \"extractedsource\" ON ( \"assocxtrsource\".\"xtrsrc\" = \"extractedsource\".\"id\" ) INNER JOIN \"image\" ON ( \"extractedsource\".\"image\" = \"image\".\"id\" ) WHERE (\"assocxtrsource\".\"runcat\" = 3  AND \"image\".\"band\" = 25  AND \"image\".\"taustart_ts\" = '2013-02-10 22:12:07+01:00' ); args=(3, 25, u'2013-02-10 22:12:07+01:00')\n"
       ]
      },
      {
       "output_type": "stream",
       "stream": "stderr",
       "text": [
        "DEBUG:django.db.backends:(0.001) SELECT \"assocxtrsource\".\"id\", \"assocxtrsource\".\"runcat\", \"assocxtrsource\".\"xtrsrc\", \"assocxtrsource\".\"type\", \"assocxtrsource\".\"distance_arcsec\", \"assocxtrsource\".\"r\", \"assocxtrsource\".\"loglr\", \"assocxtrsource\".\"v_int\", \"assocxtrsource\".\"eta_int\" FROM \"assocxtrsource\" INNER JOIN \"extractedsource\" ON ( \"assocxtrsource\".\"xtrsrc\" = \"extractedsource\".\"id\" ) INNER JOIN \"image\" ON ( \"extractedsource\".\"image\" = \"image\".\"id\" ) WHERE (\"assocxtrsource\".\"runcat\" = 2  AND \"image\".\"band\" = 25  AND \"image\".\"taustart_ts\" = '2013-02-10 22:12:07+01:00' ); args=(2, 25, u'2013-02-10 22:12:07+01:00')\n"
       ]
      },
      {
       "output_type": "stream",
       "stream": "stderr",
       "text": [
        "DEBUG:django.db.backends:(0.001) SELECT \"assocxtrsource\".\"id\", \"assocxtrsource\".\"runcat\", \"assocxtrsource\".\"xtrsrc\", \"assocxtrsource\".\"type\", \"assocxtrsource\".\"distance_arcsec\", \"assocxtrsource\".\"r\", \"assocxtrsource\".\"loglr\", \"assocxtrsource\".\"v_int\", \"assocxtrsource\".\"eta_int\" FROM \"assocxtrsource\" INNER JOIN \"extractedsource\" ON ( \"assocxtrsource\".\"xtrsrc\" = \"extractedsource\".\"id\" ) INNER JOIN \"image\" ON ( \"extractedsource\".\"image\" = \"image\".\"id\" ) WHERE (\"assocxtrsource\".\"runcat\" = 4  AND \"image\".\"band\" = 23  AND \"image\".\"taustart_ts\" = '2013-02-10 21:57:07+01:00' ); args=(4, 23, u'2013-02-10 21:57:07+01:00')\n"
       ]
      },
      {
       "output_type": "stream",
       "stream": "stderr",
       "text": [
        "DEBUG:django.db.backends:(0.001) SELECT \"assocxtrsource\".\"id\", \"assocxtrsource\".\"runcat\", \"assocxtrsource\".\"xtrsrc\", \"assocxtrsource\".\"type\", \"assocxtrsource\".\"distance_arcsec\", \"assocxtrsource\".\"r\", \"assocxtrsource\".\"loglr\", \"assocxtrsource\".\"v_int\", \"assocxtrsource\".\"eta_int\" FROM \"assocxtrsource\" INNER JOIN \"extractedsource\" ON ( \"assocxtrsource\".\"xtrsrc\" = \"extractedsource\".\"id\" ) INNER JOIN \"image\" ON ( \"extractedsource\".\"image\" = \"image\".\"id\" ) WHERE (\"assocxtrsource\".\"runcat\" = 3  AND \"image\".\"band\" = 24  AND \"image\".\"taustart_ts\" = '2013-02-10 21:42:07+01:00' ); args=(3, 24, u'2013-02-10 21:42:07+01:00')\n"
       ]
      },
      {
       "output_type": "stream",
       "stream": "stderr",
       "text": [
        "DEBUG:django.db.backends:(0.001) SELECT \"assocxtrsource\".\"id\", \"assocxtrsource\".\"runcat\", \"assocxtrsource\".\"xtrsrc\", \"assocxtrsource\".\"type\", \"assocxtrsource\".\"distance_arcsec\", \"assocxtrsource\".\"r\", \"assocxtrsource\".\"loglr\", \"assocxtrsource\".\"v_int\", \"assocxtrsource\".\"eta_int\" FROM \"assocxtrsource\" INNER JOIN \"extractedsource\" ON ( \"assocxtrsource\".\"xtrsrc\" = \"extractedsource\".\"id\" ) INNER JOIN \"image\" ON ( \"extractedsource\".\"image\" = \"image\".\"id\" ) WHERE (\"assocxtrsource\".\"runcat\" = 13  AND \"image\".\"band\" = 26  AND \"image\".\"taustart_ts\" = '2013-02-10 22:12:07+01:00' ); args=(13, 26, u'2013-02-10 22:12:07+01:00')\n"
       ]
      },
      {
       "output_type": "stream",
       "stream": "stderr",
       "text": [
        "DEBUG:django.db.backends:(0.001) SELECT \"assocxtrsource\".\"id\", \"assocxtrsource\".\"runcat\", \"assocxtrsource\".\"xtrsrc\", \"assocxtrsource\".\"type\", \"assocxtrsource\".\"distance_arcsec\", \"assocxtrsource\".\"r\", \"assocxtrsource\".\"loglr\", \"assocxtrsource\".\"v_int\", \"assocxtrsource\".\"eta_int\" FROM \"assocxtrsource\" INNER JOIN \"extractedsource\" ON ( \"assocxtrsource\".\"xtrsrc\" = \"extractedsource\".\"id\" ) INNER JOIN \"image\" ON ( \"extractedsource\".\"image\" = \"image\".\"id\" ) WHERE (\"assocxtrsource\".\"runcat\" = 12  AND \"image\".\"band\" = 23  AND \"image\".\"taustart_ts\" = '2013-02-10 21:57:07+01:00' ); args=(12, 23, u'2013-02-10 21:57:07+01:00')\n"
       ]
      },
      {
       "output_type": "stream",
       "stream": "stderr",
       "text": [
        "DEBUG:django.db.backends:(0.001) SELECT \"assocxtrsource\".\"id\", \"assocxtrsource\".\"runcat\", \"assocxtrsource\".\"xtrsrc\", \"assocxtrsource\".\"type\", \"assocxtrsource\".\"distance_arcsec\", \"assocxtrsource\".\"r\", \"assocxtrsource\".\"loglr\", \"assocxtrsource\".\"v_int\", \"assocxtrsource\".\"eta_int\" FROM \"assocxtrsource\" INNER JOIN \"extractedsource\" ON ( \"assocxtrsource\".\"xtrsrc\" = \"extractedsource\".\"id\" ) INNER JOIN \"image\" ON ( \"extractedsource\".\"image\" = \"image\".\"id\" ) WHERE (\"assocxtrsource\".\"runcat\" = 5  AND \"image\".\"band\" = 26  AND \"image\".\"taustart_ts\" = '2013-02-10 22:12:07+01:00' ); args=(5, 26, u'2013-02-10 22:12:07+01:00')\n"
       ]
      },
      {
       "output_type": "stream",
       "stream": "stderr",
       "text": [
        "DEBUG:django.db.backends:(0.001) SELECT \"assocxtrsource\".\"id\", \"assocxtrsource\".\"runcat\", \"assocxtrsource\".\"xtrsrc\", \"assocxtrsource\".\"type\", \"assocxtrsource\".\"distance_arcsec\", \"assocxtrsource\".\"r\", \"assocxtrsource\".\"loglr\", \"assocxtrsource\".\"v_int\", \"assocxtrsource\".\"eta_int\" FROM \"assocxtrsource\" INNER JOIN \"extractedsource\" ON ( \"assocxtrsource\".\"xtrsrc\" = \"extractedsource\".\"id\" ) INNER JOIN \"image\" ON ( \"extractedsource\".\"image\" = \"image\".\"id\" ) WHERE (\"assocxtrsource\".\"runcat\" = 8  AND \"image\".\"band\" = 23  AND \"image\".\"taustart_ts\" = '2013-02-10 21:57:07+01:00' ); args=(8, 23, u'2013-02-10 21:57:07+01:00')\n"
       ]
      },
      {
       "output_type": "stream",
       "stream": "stderr",
       "text": [
        "DEBUG:django.db.backends:(0.001) SELECT \"assocxtrsource\".\"id\", \"assocxtrsource\".\"runcat\", \"assocxtrsource\".\"xtrsrc\", \"assocxtrsource\".\"type\", \"assocxtrsource\".\"distance_arcsec\", \"assocxtrsource\".\"r\", \"assocxtrsource\".\"loglr\", \"assocxtrsource\".\"v_int\", \"assocxtrsource\".\"eta_int\" FROM \"assocxtrsource\" INNER JOIN \"extractedsource\" ON ( \"assocxtrsource\".\"xtrsrc\" = \"extractedsource\".\"id\" ) INNER JOIN \"image\" ON ( \"extractedsource\".\"image\" = \"image\".\"id\" ) WHERE (\"assocxtrsource\".\"runcat\" = 2  AND \"image\".\"band\" = 24  AND \"image\".\"taustart_ts\" = '2013-02-10 21:42:07+01:00' ); args=(2, 24, u'2013-02-10 21:42:07+01:00')\n"
       ]
      },
      {
       "output_type": "stream",
       "stream": "stderr",
       "text": [
        "DEBUG:django.db.backends:(0.001) SELECT \"assocxtrsource\".\"id\", \"assocxtrsource\".\"runcat\", \"assocxtrsource\".\"xtrsrc\", \"assocxtrsource\".\"type\", \"assocxtrsource\".\"distance_arcsec\", \"assocxtrsource\".\"r\", \"assocxtrsource\".\"loglr\", \"assocxtrsource\".\"v_int\", \"assocxtrsource\".\"eta_int\" FROM \"assocxtrsource\" INNER JOIN \"extractedsource\" ON ( \"assocxtrsource\".\"xtrsrc\" = \"extractedsource\".\"id\" ) INNER JOIN \"image\" ON ( \"extractedsource\".\"image\" = \"image\".\"id\" ) WHERE (\"assocxtrsource\".\"runcat\" = 9  AND \"image\".\"band\" = 26  AND \"image\".\"taustart_ts\" = '2013-02-10 22:12:07+01:00' ); args=(9, 26, u'2013-02-10 22:12:07+01:00')\n"
       ]
      },
      {
       "output_type": "stream",
       "stream": "stderr",
       "text": [
        "DEBUG:django.db.backends:(0.001) SELECT \"assocxtrsource\".\"id\", \"assocxtrsource\".\"runcat\", \"assocxtrsource\".\"xtrsrc\", \"assocxtrsource\".\"type\", \"assocxtrsource\".\"distance_arcsec\", \"assocxtrsource\".\"r\", \"assocxtrsource\".\"loglr\", \"assocxtrsource\".\"v_int\", \"assocxtrsource\".\"eta_int\" FROM \"assocxtrsource\" INNER JOIN \"extractedsource\" ON ( \"assocxtrsource\".\"xtrsrc\" = \"extractedsource\".\"id\" ) INNER JOIN \"image\" ON ( \"extractedsource\".\"image\" = \"image\".\"id\" ) WHERE (\"assocxtrsource\".\"runcat\" = 1  AND \"image\".\"band\" = 23  AND \"image\".\"taustart_ts\" = '2013-02-10 21:57:07+01:00' ); args=(1, 23, u'2013-02-10 21:57:07+01:00')\n"
       ]
      },
      {
       "output_type": "stream",
       "stream": "stderr",
       "text": [
        "DEBUG:django.db.backends:(0.001) SELECT \"assocxtrsource\".\"id\", \"assocxtrsource\".\"runcat\", \"assocxtrsource\".\"xtrsrc\", \"assocxtrsource\".\"type\", \"assocxtrsource\".\"distance_arcsec\", \"assocxtrsource\".\"r\", \"assocxtrsource\".\"loglr\", \"assocxtrsource\".\"v_int\", \"assocxtrsource\".\"eta_int\" FROM \"assocxtrsource\" INNER JOIN \"extractedsource\" ON ( \"assocxtrsource\".\"xtrsrc\" = \"extractedsource\".\"id\" ) INNER JOIN \"image\" ON ( \"extractedsource\".\"image\" = \"image\".\"id\" ) WHERE (\"assocxtrsource\".\"runcat\" = 15  AND \"image\".\"band\" = 23  AND \"image\".\"taustart_ts\" = '2013-02-10 21:57:07+01:00' ); args=(15, 23, u'2013-02-10 21:57:07+01:00')\n"
       ]
      },
      {
       "output_type": "stream",
       "stream": "stderr",
       "text": [
        "DEBUG:django.db.backends:(0.001) SELECT \"assocxtrsource\".\"id\", \"assocxtrsource\".\"runcat\", \"assocxtrsource\".\"xtrsrc\", \"assocxtrsource\".\"type\", \"assocxtrsource\".\"distance_arcsec\", \"assocxtrsource\".\"r\", \"assocxtrsource\".\"loglr\", \"assocxtrsource\".\"v_int\", \"assocxtrsource\".\"eta_int\" FROM \"assocxtrsource\" INNER JOIN \"extractedsource\" ON ( \"assocxtrsource\".\"xtrsrc\" = \"extractedsource\".\"id\" ) INNER JOIN \"image\" ON ( \"extractedsource\".\"image\" = \"image\".\"id\" ) WHERE (\"assocxtrsource\".\"runcat\" = 7  AND \"image\".\"band\" = 26  AND \"image\".\"taustart_ts\" = '2013-02-10 22:12:07+01:00' ); args=(7, 26, u'2013-02-10 22:12:07+01:00')\n"
       ]
      },
      {
       "output_type": "stream",
       "stream": "stderr",
       "text": [
        "DEBUG:django.db.backends:(0.001) SELECT \"assocxtrsource\".\"id\", \"assocxtrsource\".\"runcat\", \"assocxtrsource\".\"xtrsrc\", \"assocxtrsource\".\"type\", \"assocxtrsource\".\"distance_arcsec\", \"assocxtrsource\".\"r\", \"assocxtrsource\".\"loglr\", \"assocxtrsource\".\"v_int\", \"assocxtrsource\".\"eta_int\" FROM \"assocxtrsource\" INNER JOIN \"extractedsource\" ON ( \"assocxtrsource\".\"xtrsrc\" = \"extractedsource\".\"id\" ) INNER JOIN \"image\" ON ( \"extractedsource\".\"image\" = \"image\".\"id\" ) WHERE (\"assocxtrsource\".\"runcat\" = 10  AND \"image\".\"band\" = 23  AND \"image\".\"taustart_ts\" = '2013-02-10 21:57:07+01:00' ); args=(10, 23, u'2013-02-10 21:57:07+01:00')\n"
       ]
      },
      {
       "output_type": "stream",
       "stream": "stderr",
       "text": [
        "DEBUG:django.db.backends:(0.001) SELECT \"assocxtrsource\".\"id\", \"assocxtrsource\".\"runcat\", \"assocxtrsource\".\"xtrsrc\", \"assocxtrsource\".\"type\", \"assocxtrsource\".\"distance_arcsec\", \"assocxtrsource\".\"r\", \"assocxtrsource\".\"loglr\", \"assocxtrsource\".\"v_int\", \"assocxtrsource\".\"eta_int\" FROM \"assocxtrsource\" INNER JOIN \"extractedsource\" ON ( \"assocxtrsource\".\"xtrsrc\" = \"extractedsource\".\"id\" ) INNER JOIN \"image\" ON ( \"extractedsource\".\"image\" = \"image\".\"id\" ) WHERE (\"assocxtrsource\".\"runcat\" = 5  AND \"image\".\"band\" = 25  AND \"image\".\"taustart_ts\" = '2013-02-10 22:12:07+01:00' ); args=(5, 25, u'2013-02-10 22:12:07+01:00')\n"
       ]
      },
      {
       "output_type": "stream",
       "stream": "stderr",
       "text": [
        "DEBUG:django.db.backends:(0.001) SELECT \"assocxtrsource\".\"id\", \"assocxtrsource\".\"runcat\", \"assocxtrsource\".\"xtrsrc\", \"assocxtrsource\".\"type\", \"assocxtrsource\".\"distance_arcsec\", \"assocxtrsource\".\"r\", \"assocxtrsource\".\"loglr\", \"assocxtrsource\".\"v_int\", \"assocxtrsource\".\"eta_int\" FROM \"assocxtrsource\" INNER JOIN \"extractedsource\" ON ( \"assocxtrsource\".\"xtrsrc\" = \"extractedsource\".\"id\" ) INNER JOIN \"image\" ON ( \"extractedsource\".\"image\" = \"image\".\"id\" ) WHERE (\"assocxtrsource\".\"runcat\" = 13  AND \"image\".\"band\" = 25  AND \"image\".\"taustart_ts\" = '2013-02-10 22:12:07+01:00' ); args=(13, 25, u'2013-02-10 22:12:07+01:00')\n"
       ]
      },
      {
       "output_type": "stream",
       "stream": "stderr",
       "text": [
        "DEBUG:django.db.backends:(0.001) SELECT \"assocxtrsource\".\"id\", \"assocxtrsource\".\"runcat\", \"assocxtrsource\".\"xtrsrc\", \"assocxtrsource\".\"type\", \"assocxtrsource\".\"distance_arcsec\", \"assocxtrsource\".\"r\", \"assocxtrsource\".\"loglr\", \"assocxtrsource\".\"v_int\", \"assocxtrsource\".\"eta_int\" FROM \"assocxtrsource\" INNER JOIN \"extractedsource\" ON ( \"assocxtrsource\".\"xtrsrc\" = \"extractedsource\".\"id\" ) INNER JOIN \"image\" ON ( \"extractedsource\".\"image\" = \"image\".\"id\" ) WHERE (\"assocxtrsource\".\"runcat\" = 14  AND \"image\".\"band\" = 23  AND \"image\".\"taustart_ts\" = '2013-02-10 21:57:07+01:00' ); args=(14, 23, u'2013-02-10 21:57:07+01:00')\n"
       ]
      },
      {
       "output_type": "stream",
       "stream": "stderr",
       "text": [
        "DEBUG:django.db.backends:(0.001) SELECT \"assocxtrsource\".\"id\", \"assocxtrsource\".\"runcat\", \"assocxtrsource\".\"xtrsrc\", \"assocxtrsource\".\"type\", \"assocxtrsource\".\"distance_arcsec\", \"assocxtrsource\".\"r\", \"assocxtrsource\".\"loglr\", \"assocxtrsource\".\"v_int\", \"assocxtrsource\".\"eta_int\" FROM \"assocxtrsource\" INNER JOIN \"extractedsource\" ON ( \"assocxtrsource\".\"xtrsrc\" = \"extractedsource\".\"id\" ) INNER JOIN \"image\" ON ( \"extractedsource\".\"image\" = \"image\".\"id\" ) WHERE (\"assocxtrsource\".\"runcat\" = 7  AND \"image\".\"band\" = 25  AND \"image\".\"taustart_ts\" = '2013-02-10 22:12:07+01:00' ); args=(7, 25, u'2013-02-10 22:12:07+01:00')\n"
       ]
      },
      {
       "output_type": "stream",
       "stream": "stderr",
       "text": [
        "DEBUG:django.db.backends:(0.001) SELECT \"assocxtrsource\".\"id\", \"assocxtrsource\".\"runcat\", \"assocxtrsource\".\"xtrsrc\", \"assocxtrsource\".\"type\", \"assocxtrsource\".\"distance_arcsec\", \"assocxtrsource\".\"r\", \"assocxtrsource\".\"loglr\", \"assocxtrsource\".\"v_int\", \"assocxtrsource\".\"eta_int\" FROM \"assocxtrsource\" INNER JOIN \"extractedsource\" ON ( \"assocxtrsource\".\"xtrsrc\" = \"extractedsource\".\"id\" ) INNER JOIN \"image\" ON ( \"extractedsource\".\"image\" = \"image\".\"id\" ) WHERE (\"assocxtrsource\".\"runcat\" = 9  AND \"image\".\"band\" = 25  AND \"image\".\"taustart_ts\" = '2013-02-10 22:12:07+01:00' ); args=(9, 25, u'2013-02-10 22:12:07+01:00')\n"
       ]
      },
      {
       "output_type": "stream",
       "stream": "stderr",
       "text": [
        "DEBUG:django.db.backends:(0.001) SELECT \"assocxtrsource\".\"id\", \"assocxtrsource\".\"runcat\", \"assocxtrsource\".\"xtrsrc\", \"assocxtrsource\".\"type\", \"assocxtrsource\".\"distance_arcsec\", \"assocxtrsource\".\"r\", \"assocxtrsource\".\"loglr\", \"assocxtrsource\".\"v_int\", \"assocxtrsource\".\"eta_int\" FROM \"assocxtrsource\" INNER JOIN \"extractedsource\" ON ( \"assocxtrsource\".\"xtrsrc\" = \"extractedsource\".\"id\" ) INNER JOIN \"image\" ON ( \"extractedsource\".\"image\" = \"image\".\"id\" ) WHERE (\"assocxtrsource\".\"runcat\" = 6  AND \"image\".\"band\" = 24  AND \"image\".\"taustart_ts\" = '2013-02-10 21:42:07+01:00' ); args=(6, 24, u'2013-02-10 21:42:07+01:00')\n"
       ]
      },
      {
       "output_type": "stream",
       "stream": "stderr",
       "text": [
        "DEBUG:django.db.backends:(0.001) SELECT \"assocxtrsource\".\"id\", \"assocxtrsource\".\"runcat\", \"assocxtrsource\".\"xtrsrc\", \"assocxtrsource\".\"type\", \"assocxtrsource\".\"distance_arcsec\", \"assocxtrsource\".\"r\", \"assocxtrsource\".\"loglr\", \"assocxtrsource\".\"v_int\", \"assocxtrsource\".\"eta_int\" FROM \"assocxtrsource\" INNER JOIN \"extractedsource\" ON ( \"assocxtrsource\".\"xtrsrc\" = \"extractedsource\".\"id\" ) INNER JOIN \"image\" ON ( \"extractedsource\".\"image\" = \"image\".\"id\" ) WHERE (\"assocxtrsource\".\"runcat\" = 12  AND \"image\".\"band\" = 26  AND \"image\".\"taustart_ts\" = '2013-02-10 22:12:07+01:00' ); args=(12, 26, u'2013-02-10 22:12:07+01:00')\n"
       ]
      },
      {
       "output_type": "stream",
       "stream": "stderr",
       "text": [
        "DEBUG:django.db.backends:(0.001) SELECT \"assocxtrsource\".\"id\", \"assocxtrsource\".\"runcat\", \"assocxtrsource\".\"xtrsrc\", \"assocxtrsource\".\"type\", \"assocxtrsource\".\"distance_arcsec\", \"assocxtrsource\".\"r\", \"assocxtrsource\".\"loglr\", \"assocxtrsource\".\"v_int\", \"assocxtrsource\".\"eta_int\" FROM \"assocxtrsource\" INNER JOIN \"extractedsource\" ON ( \"assocxtrsource\".\"xtrsrc\" = \"extractedsource\".\"id\" ) INNER JOIN \"image\" ON ( \"extractedsource\".\"image\" = \"image\".\"id\" ) WHERE (\"assocxtrsource\".\"runcat\" = 16  AND \"image\".\"band\" = 24  AND \"image\".\"taustart_ts\" = '2013-02-10 21:42:07+01:00' ); args=(16, 24, u'2013-02-10 21:42:07+01:00')\n"
       ]
      },
      {
       "output_type": "stream",
       "stream": "stdout",
       "text": [
        "64\n",
        "[<Assocxtrsource: Assocxtrsource object>, <Assocxtrsource: Assocxtrsource object>, <Assocxtrsource: Assocxtrsource object>, <Assocxtrsource: Assocxtrsource object>, <Assocxtrsource: Assocxtrsource object>, <Assocxtrsource: Assocxtrsource object>, <Assocxtrsource: Assocxtrsource object>, <Assocxtrsource: Assocxtrsource object>, <Assocxtrsource: Assocxtrsource object>, <Assocxtrsource: Assocxtrsource object>, <Assocxtrsource: Assocxtrsource object>, <Assocxtrsource: Assocxtrsource object>, <Assocxtrsource: Assocxtrsource object>, <Assocxtrsource: Assocxtrsource object>, <Assocxtrsource: Assocxtrsource object>, <Assocxtrsource: Assocxtrsource object>, <Assocxtrsource: Assocxtrsource object>, <Assocxtrsource: Assocxtrsource object>, <Assocxtrsource: Assocxtrsource object>, <Assocxtrsource: Assocxtrsource object>, <Assocxtrsource: Assocxtrsource object>, <Assocxtrsource: Assocxtrsource object>, <Assocxtrsource: Assocxtrsource object>, <Assocxtrsource: Assocxtrsource object>, <Assocxtrsource: Assocxtrsource object>, <Assocxtrsource: Assocxtrsource object>, <Assocxtrsource: Assocxtrsource object>, <Assocxtrsource: Assocxtrsource object>, <Assocxtrsource: Assocxtrsource object>, <Assocxtrsource: Assocxtrsource object>, <Assocxtrsource: Assocxtrsource object>, <Assocxtrsource: Assocxtrsource object>, <Assocxtrsource: Assocxtrsource object>, <Assocxtrsource: Assocxtrsource object>, <Assocxtrsource: Assocxtrsource object>, <Assocxtrsource: Assocxtrsource object>, <Assocxtrsource: Assocxtrsource object>, <Assocxtrsource: Assocxtrsource object>, <Assocxtrsource: Assocxtrsource object>, <Assocxtrsource: Assocxtrsource object>, <Assocxtrsource: Assocxtrsource object>, <Assocxtrsource: Assocxtrsource object>, <Assocxtrsource: Assocxtrsource object>, <Assocxtrsource: Assocxtrsource object>, <Assocxtrsource: Assocxtrsource object>, <Assocxtrsource: Assocxtrsource object>, <Assocxtrsource: Assocxtrsource object>, <Assocxtrsource: Assocxtrsource object>, <Assocxtrsource: Assocxtrsource object>, <Assocxtrsource: Assocxtrsource object>, <Assocxtrsource: Assocxtrsource object>, <Assocxtrsource: Assocxtrsource object>, <Assocxtrsource: Assocxtrsource object>, <Assocxtrsource: Assocxtrsource object>, <Assocxtrsource: Assocxtrsource object>, <Assocxtrsource: Assocxtrsource object>, <Assocxtrsource: Assocxtrsource object>, <Assocxtrsource: Assocxtrsource object>, <Assocxtrsource: Assocxtrsource object>, <Assocxtrsource: Assocxtrsource object>, <Assocxtrsource: Assocxtrsource object>, <Assocxtrsource: Assocxtrsource object>, <Assocxtrsource: Assocxtrsource object>, <Assocxtrsource: Assocxtrsource object>]\n"
       ]
      }
     ],
     "prompt_number": 4
    }
   ],
   "metadata": {}
  }
 ]
}